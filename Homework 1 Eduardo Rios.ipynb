{
 "cells": [
  {
   "cell_type": "markdown",
   "id": "8d0a8bef",
   "metadata": {},
   "source": [
    "# Homework 1"
   ]
  },
  {
   "cell_type": "markdown",
   "id": "35509289",
   "metadata": {},
   "source": [
    "##  1. Sort the following functions in decreasing order of asymptotic complexity ($O(f(n))$):\n",
    "\n",
    "- $f_1(n) = n^\\sqrt{n}$\n",
    "- $f_2(n) = 2^n$\n",
    "- $f_3(n) = {n\\choose 2}$\n",
    "- $f_4(n) = \\sum_{i=2}^n (i-1)$"
   ]
  },
  {
   "cell_type": "code",
   "execution_count": 2,
   "id": "1b78325c",
   "metadata": {},
   "outputs": [
    {
     "ename": "NameError",
     "evalue": "name 'f2' is not defined",
     "output_type": "error",
     "traceback": [
      "\u001b[1;31m---------------------------------------------------------------------------\u001b[0m",
      "\u001b[1;31mNameError\u001b[0m                                 Traceback (most recent call last)",
      "\u001b[1;32m<ipython-input-2-03185be487f0>\u001b[0m in \u001b[0;36m<module>\u001b[1;34m\u001b[0m\n\u001b[1;32m----> 1\u001b[1;33m \u001b[0mf2\u001b[0m\u001b[1;33m(\u001b[0m\u001b[0mn\u001b[0m\u001b[1;33m)\u001b[0m \u001b[1;33m<\u001b[0m \u001b[0mf1\u001b[0m\u001b[1;33m(\u001b[0m\u001b[0mn\u001b[0m\u001b[1;33m)\u001b[0m \u001b[1;33m<\u001b[0m \u001b[0mf4\u001b[0m\u001b[1;33m(\u001b[0m\u001b[0mn\u001b[0m\u001b[1;33m)\u001b[0m \u001b[1;33m<\u001b[0m \u001b[0mf3\u001b[0m\u001b[1;33m(\u001b[0m\u001b[0mn\u001b[0m\u001b[1;33m)\u001b[0m\u001b[1;33m\u001b[0m\u001b[1;33m\u001b[0m\u001b[0m\n\u001b[0m",
      "\u001b[1;31mNameError\u001b[0m: name 'f2' is not defined"
     ]
    }
   ],
   "source": [
    "f2(n) < f1(n) < f4(n) < f3(n)"
   ]
  },
  {
   "cell_type": "markdown",
   "id": "6079fb21",
   "metadata": {},
   "source": [
    "## 2. Implement in Python the insertion sort procedure to sort into non-increasing instead of non-decreasing order \n",
    "\n",
    "1. Use the `time` function to measure the execution time for the best and worst inputs of size between 10 and 1,000 (use steps of 10)\n",
    "2. Plot the best and worst execution times measured in (2.1) as a function of $n$\n",
    "3. Use the `random` function to generate randomly sorted inputs to calculate the execution time. For each $n$ run the program for 100 different inputs. Do for $n = 100,200, \\dots, 1000$.\n",
    "4. Plot the mean, median, and standard deviation as a function of $n$ for the values obtained in 2.3\n"
   ]
  },
  {
   "cell_type": "code",
   "execution_count": null,
   "id": "31623d9d",
   "metadata": {},
   "outputs": [],
   "source": [
    "import time\n",
    "import pandas as pd\n",
    "import numpy as np\n",
    "import matplotlib.pyplot as plt"
   ]
  },
  {
   "cell_type": "code",
   "execution_count": 3,
   "id": "b9153817",
   "metadata": {},
   "outputs": [],
   "source": [
    "def arregloInvertido(arr):\n",
    "    for i in range(1, len(arr)):\n",
    "        var = arr[i]\n",
    "        k = i - 1\n",
    "        while(k >= 0) and (var > arr[k]):\n",
    "            arr[k+1] = arr[k]\n",
    "            k -= 1\n",
    "        arr[k+1]= var\n",
    "        \n",
    "def peorCaso(n):\n",
    "    arr = []\n",
    "    for i in range(1, n):\n",
    "        arr.append(i)\n",
    "    return arr\n",
    "\n",
    "def tiempoPeorCaso(n):\n",
    "    arr = peorCaso(n)\n",
    "    start = time.time()\n",
    "    arregloInvertido(arr)\n",
    "    return time.time()- start\n",
    "\n",
    "variable1 = pd.DataFrame()\n",
    "variable1['s'] = range(10,1000,10)\n",
    "variable1['T'] = [tiempoPeorCaso(x) for x in variable1['s']]\n",
    "variable1['T'] = 1000* variable1['T']"
   ]
  },
  {
   "cell_type": "code",
   "execution_count": 5,
   "id": "766103a0",
   "metadata": {},
   "outputs": [
    {
     "data": {
      "image/png": "[encoded data removed]",
      "text/plain": [
       "<Figure size 432x288 with 1 Axes>"
      ]
     },
     "metadata": {
      "needs_background": "light"
     },
     "output_type": "display_data"
    }
   ],
   "source": [
    "variable1.plot(x = 's', y = 'T')\n",
    "plt.ylabel(\"Segundos\")\n",
    "plt.grid()"
   ]
  },
  {
   "cell_type": "markdown",
   "id": "acfa119f",
   "metadata": {},
   "source": [
    "## 3.  CLRS 2.1-4\n",
    "pg. 22"
   ]
  },
  {
   "cell_type": "code",
   "execution_count": null,
   "id": "ae614e13",
   "metadata": {},
   "outputs": [],
   "source": [
    "# Crear dos arreglos de n cantidad de elementos dentro de 255 bits.\n",
    "# Obtener el valor binario de cada uno de las listas.\n",
    "# Obtener el valor del primer elemento de cada lista, e ir sumando cada uno por posiciones\n",
    "# Crear una nueva lista para guardar la suma \n",
    "# Guardar la suma de ambas listas"
   ]
  },
  {
   "cell_type": "markdown",
   "id": "fd9ddcc1",
   "metadata": {},
   "source": [
    "## 4.  CLRS 3.1-1\n",
    "pg. 52"
   ]
  },
  {
   "cell_type": "code",
   "execution_count": null,
   "id": "b85ac24d",
   "metadata": {},
   "outputs": [],
   "source": [
    "## Por definicion de theta, tenemos que encontrar los extremos de la funcion \n",
    "## donde  max (f(n),g(n) = theta(f(n)+ g(n))). \n",
    "## Obtenemos que c2 = 1 dado que el valor maximo que se obtiene tiene que ser menor \n",
    "## a la suma de ambas funciones (f(n) y g(n)), posteriormente obtenemos que c1 =0.5\n",
    "## que es mitad de la suma de c2. "
   ]
  },
  {
   "cell_type": "markdown",
   "id": "4a070079",
   "metadata": {},
   "source": [
    "## 5. CLRS 3.1-2\n",
    "pg. 52"
   ]
  },
  {
   "cell_type": "code",
   "execution_count": null,
   "id": "1d174f3e",
   "metadata": {},
   "outputs": [],
   "source": [
    "En este caso, si es Big Theta de las funciones, por el hecho de que si \n",
    "c = 2^2b para cada n0> 2a. Posteriormente obtenemos que n > n0> -a/ 1-1/2^2^1/b.\n"
   ]
  },
  {
   "cell_type": "markdown",
   "id": "7fe796ed",
   "metadata": {},
   "source": [
    "## 6. CLRS 3.1-6\n",
    "pg. 53"
   ]
  },
  {
   "cell_type": "code",
   "execution_count": null,
   "id": "f6b43ca8",
   "metadata": {},
   "outputs": [],
   "source": []
  },
  {
   "cell_type": "markdown",
   "id": "2d3a36bc",
   "metadata": {},
   "source": [
    "## 7. CLRS 3-4 (a,b,e,g)\n",
    "pg. 62"
   ]
  },
  {
   "cell_type": "code",
   "execution_count": null,
   "id": "2dd13f65",
   "metadata": {},
   "outputs": [],
   "source": [
    "(a) Es falso, sin embargo, n es big O ya que si es el limite superior \n",
    "de O(n^2). En cambio, cuando hacmeos n^2 no es big O de (n) ya que\n",
    "el limite es menor."
   ]
  },
  {
   "cell_type": "code",
   "execution_count": null,
   "id": "e738674e",
   "metadata": {},
   "outputs": [],
   "source": [
    "(b) Es falso, n + n^2 no puede ser big Theta(n) por el hecho de que\n",
    "en el caso de big O, el limite no cumple con la condicion de ser menor\n",
    "a g(n). En el caso contrario, big Theta tampoco es por el mismo motivo\n",
    "de que el limite sobre pasa el comportamiento de theta. \n",
    "Asi pues considere que es falso."
   ]
  },
  {
   "cell_type": "code",
   "execution_count": 6,
   "id": "492bfacb",
   "metadata": {},
   "outputs": [
    {
     "ename": "SyntaxError",
     "evalue": "invalid syntax (<ipython-input-6-b58533d8e178>, line 1)",
     "output_type": "error",
     "traceback": [
      "\u001b[1;36m  File \u001b[1;32m\"<ipython-input-6-b58533d8e178>\"\u001b[1;36m, line \u001b[1;32m1\u001b[0m\n\u001b[1;33m    (e) Falso, por el hecho que si pones que la funcion f(n) = 1/n,\u001b[0m\n\u001b[1;37m        ^\u001b[0m\n\u001b[1;31mSyntaxError\u001b[0m\u001b[1;31m:\u001b[0m invalid syntax\n"
     ]
    }
   ],
   "source": [
    "(e) Falso, por el hecho que si pones que la funcion f(n) = 1/n,\n",
    "no existe una variable constante que cumpla con la condicion de\n",
    "1/n < c*1/n^2, para cada n > n0. \n",
    "Se volveria una contradiccion si tenemos en cuenta la condicion inicial.\n"
   ]
  },
  {
   "cell_type": "code",
   "execution_count": null,
   "id": "ff168b45",
   "metadata": {},
   "outputs": [],
   "source": [
    "(g) Falso, si dejamos que f(n) = 2^2n, y por el ejercicio anterior, \n",
    "un numero multiplicado por un numero y una constante, siempre f(n), \n",
    "sera mayor a g(n). \n",
    "Por lo que tambien seria una contradiccion."
   ]
  }
 ],
 "metadata": {
  "kernelspec": {
   "display_name": "Python 3",
   "language": "python",
   "name": "python3"
  },
  "language_info": {
   "codemirror_mode": {
    "name": "ipython",
    "version": 3
   },
   "file_extension": ".py",
   "mimetype": "text/x-python",
   "name": "python",
   "nbconvert_exporter": "python",
   "pygments_lexer": "ipython3",
   "version": "3.8.8"
  }
 },
 "nbformat": 4,
 "nbformat_minor": 5
}
